{
 "cells": [
  {
   "cell_type": "markdown",
   "id": "3b68eed5",
   "metadata": {},
   "source": [
    "## Import Modules\n",
    "\n",
    "Here we import the needed modules and the data required from the datasets module"
   ]
  },
  {
   "cell_type": "code",
   "execution_count": null,
   "id": "56ad506c",
   "metadata": {},
   "outputs": [],
   "source": [
    "#!pip install nltk textblob ipywidgets datasets matplotlib pandas"
   ]
  },
  {
   "cell_type": "code",
   "execution_count": null,
   "id": "de7b98f1",
   "metadata": {},
   "outputs": [],
   "source": [
    "%matplotlib inline\n",
    "import re\n",
    "import nltk\n",
    "from datasets import load_dataset\n",
    "from ipywidgets import IntProgress\n",
    "import pandas as pd\n",
    "nltk.download('punkt',quiet=True)\n",
    "nltk.download('stopwords',quiet=True)\n",
    "nltk.download('wordnet',quiet=True)\n",
    "nltk.download('omw-1.4',quiet=True)\n",
    "nltk.download('averaged_perceptron_tagger',quiet=True)\n",
    "from nltk.tokenize import word_tokenize\n",
    "from nltk import pos_tag\n",
    "from nltk.corpus import stopwords\n",
    "from nltk.corpus import wordnet\n",
    "from nltk.stem import WordNetLemmatizer\n",
    "from textblob import TextBlob\n",
    "import matplotlib.pyplot as plt"
   ]
  },
  {
   "cell_type": "markdown",
   "id": "d4b369c0",
   "metadata": {},
   "source": [
    "## Import Data\n",
    "This would be changed for Cazoo"
   ]
  },
  {
   "cell_type": "code",
   "execution_count": null,
   "id": "52cdcf9f",
   "metadata": {},
   "outputs": [],
   "source": [
    "# Using just the train data for this usecase (add test if it makes sense later)\n",
    "train_data = load_dataset(\"banking77\",split=\"train\").to_pandas()\n",
    "intent_types = pd.read_csv(\"intent_types.csv\")"
   ]
  }
 ],
 "metadata": {
  "kernelspec": {
   "display_name": "Python 3 (ipykernel)",
   "language": "python",
   "name": "python3"
  },
  "language_info": {
   "codemirror_mode": {
    "name": "ipython",
    "version": 3
   },
   "file_extension": ".py",
   "mimetype": "text/x-python",
   "name": "python",
   "nbconvert_exporter": "python",
   "pygments_lexer": "ipython3",
   "version": "3.9.10"
  }
 },
 "nbformat": 4,
 "nbformat_minor": 5
}
